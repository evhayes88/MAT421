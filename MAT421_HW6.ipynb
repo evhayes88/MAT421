{
  "nbformat": 4,
  "nbformat_minor": 0,
  "metadata": {
    "colab": {
      "name": "MAT421_HW6.ipynb",
      "provenance": [],
      "collapsed_sections": [],
      "toc_visible": true
    },
    "kernelspec": {
      "name": "python3",
      "display_name": "Python 3"
    },
    "language_info": {
      "name": "python"
    }
  },
  "cells": [
    {
      "cell_type": "markdown",
      "source": [
        "---\n",
        "MAT421 - Applied Computational Methods\n",
        "\n",
        "Arizona State University\n",
        "\n",
        "Homework #6\n",
        "\n",
        "Written by Edward Hayes\n",
        "\n",
        "---\n",
        "This notebook is a review and an elaboration of the topics covered in the Chapter 3 lecture notes from MAT421."
      ],
      "metadata": {
        "id": "x6yeedkaI848"
      }
    },
    {
      "cell_type": "markdown",
      "source": [
        "# Chapter 3. Calculus and Optimization"
      ],
      "metadata": {
        "id": "rjBIz0KjJBgK"
      }
    },
    {
      "cell_type": "markdown",
      "source": [
        "## 3.2 Continuity and Differentiation"
      ],
      "metadata": {
        "id": "Nlyr6KIEJfw6"
      }
    },
    {
      "cell_type": "markdown",
      "source": [
        "### 3.2.1 Limits and Continuity\n",
        "\n",
        "**Limits of a Function**\n",
        "\n",
        "A limit of a function is defined as,\n",
        "\n",
        "$\\underset{x \\to a}\\lim f(x)=L$.\n",
        "\n",
        "**Continuous Functions**\\\n",
        "A function is said to be continuous at $a$ if,\n",
        "\n",
        "$\\underset{x \\to a}\\lim f(x)=f(a)$.\n",
        "\n",
        "**Composition of Continuous Functions**\n",
        "\n",
        "If two functions, $f(x)$ and $g(x)$ are continuous at $x_0$ then the composition of functions , $f \\circ g$ is also continuous at $x_0$.\n",
        "\n",
        "**Extremum**\n",
        "\n",
        "Extremum are points of a function at which a maximum or minimum value occurs.\n",
        "\n",
        "**Extreme Value Theorem**\n",
        "\n",
        "If a function is continous on a closed interval, then there exists both a maximum and minimum value."
      ],
      "metadata": {
        "id": "o5s5JCbhKNMS"
      }
    },
    {
      "cell_type": "markdown",
      "source": [
        "### 3.2.2 Derivatives\n",
        "\n",
        "**Single Variable Derivatives**\n",
        "\n",
        "Assuming the limit exists, a derivative is defined as,\\\n",
        "$f'(x)=\\frac{df(x_0)}{dx}=\\underset{h \\to 0}\\lim \\frac{f(x_0+h)-f(x_0)}{h}$\n",
        "\n",
        "**Rolle's Theorem**\n",
        "\n",
        "Given a function, $f(x)$, that is continous on the closed interval $[a,b]$ and that its derivative, $f'(x)$, exists on the interval $(a,b)$. If $f(a)=f(b)$ then there is $a<{c}<{b}$ such that $f'(c)=0$.\n",
        "\n",
        "\n",
        "**Mean Value Theorem**\n",
        "\n",
        "Given a function, $f(x)$, that is continous on the closed interval $[a,b]$ and that its derivation, $f'(x)$, exist on the interval $(a,b)$ Then there is $a<{c}<{b}$ such that,\n",
        "\n",
        "$f'(c)=\\frac{f(b)-f(a)}{b-a}$\n",
        "\n",
        "**Single Variable Derivatives - Higher Order**\n",
        "\n",
        "Assuming the limit exists, higher order derivatives are defined as\n",
        "\n",
        "$f''(x)=\\frac{d^2f(x_0)}{dx^2}=\\underset{h \\to 0}\\lim \\frac{f'(x_0+h)-f'(x_0)}{h}$\n",
        "\n",
        "**Multi-variable Derivatives**\n",
        "\n",
        "Multi-variable derivatives are defined as a partial derivative,\n",
        "\n",
        "$\\frac{\\partial{f(x_0)}}{\\partial{x_i}}=\\underset{h \\to 0}\\lim \\frac{f(\\textbf{x}_0+h\\textbf{e}_i)-f(\\textbf{x}_0)}{h}$ where $\\textbf{e}_i$ is the $i$-th basis vector.\n",
        "\n",
        "Assuming the limit exists.\n"
      ],
      "metadata": {
        "id": "qy0zeNVFK4XH"
      }
    },
    {
      "cell_type": "markdown",
      "source": [
        "### 3.2.3 Taylor's Theorem\n",
        "\n",
        "Taylor's theorem gives an approximation of a differentiable function around a given point by a polynomial."
      ],
      "metadata": {
        "id": "muX_2B-EK-kZ"
      }
    },
    {
      "cell_type": "markdown",
      "source": [
        "## 3.3 Unconstrained Optimization"
      ],
      "metadata": {
        "id": "yeFsQDSzJqvP"
      }
    },
    {
      "cell_type": "markdown",
      "source": [
        "### 3.3.1 Necessary and Sufficient Conditions of Local Minimizers\n",
        "\n",
        "A local minimizer is a minimum that is greater in value then a global minimizer.\n",
        "\n",
        "**First-Order Necessary Condition (Gradient)**\n",
        "\n",
        "If $\\textbf{x}_0$ is a local minimizer, then the gradient, $\\nabla{f(x_0)}=0$\n",
        "\n",
        "**Second-Order Necessary Condition (Hessian)**\n",
        "\n",
        "If $\\textbf{x}_0$ is a local minimizer, then the Hessian is positive semi-definite.\n",
        "\n",
        "**Second-Order Sufficient Condition**\n",
        "\n",
        "For $\\textbf{x}_0$, if the gradient is zero and the Hessian is positive semi-definite then $\\textbf{x}_0$ is a strict local minimizer.\n"
      ],
      "metadata": {
        "id": "_bLDibf3LQmY"
      }
    },
    {
      "cell_type": "markdown",
      "source": [
        "### 3.3.2 Convexity and Global Minimizers\n",
        "\n",
        "**Convexity**\n",
        "\n",
        "A set is convex if any two point in the set can be connected with a line segment.\n",
        "\n",
        "**Global Minimizer**\n",
        "\n",
        "Given a function that is countinously differentiable and convex. If $\\nabla{f(x_0)}=0$ then $x_0$ is a global minimizer."
      ],
      "metadata": {
        "id": "AgFw-ChtLhIs"
      }
    },
    {
      "cell_type": "markdown",
      "source": [
        "### 3.3.3 Gradient Descent\n",
        "\n",
        "Optimization problems are often solved using gradient descent. Gradient descent is a iterative algorithm for finding local minimum."
      ],
      "metadata": {
        "id": "kM2Fo4yiLshV"
      }
    }
  ]
}