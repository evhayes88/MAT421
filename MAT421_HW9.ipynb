{
  "nbformat": 4,
  "nbformat_minor": 0,
  "metadata": {
    "colab": {
      "name": "MAT421_HW9.ipynb",
      "provenance": [],
      "collapsed_sections": []
    },
    "kernelspec": {
      "name": "python3",
      "display_name": "Python 3"
    },
    "language_info": {
      "name": "python"
    }
  },
  "cells": [
    {
      "cell_type": "markdown",
      "source": [
        "---\n",
        "MAT421 - Applied Computational Methods\n",
        "\n",
        "Arizona State University\n",
        "\n",
        "Homework #9\n",
        "\n",
        "Written by Edward Hayes\n",
        "\n",
        "---\n",
        "This notebook is a review and an elaboration of the topics covered in Chapter 21 from *Python Programming and Numerical Methods - A Guide for Engineers and Scientists*."
      ],
      "metadata": {
        "id": "dalRvD0L--QR"
      }
    },
    {
      "cell_type": "markdown",
      "source": [
        "---\n",
        "# Chapter 21. Numerical Integration\n",
        "---"
      ],
      "metadata": {
        "id": "phF_tlFw_Mza"
      }
    },
    {
      "cell_type": "markdown",
      "source": [
        "## 21.1 Numerical Integration Problem Statement\n",
        "\n",
        "In order to numerically approximate the integral of a function, $f(x)$, over the interval $[a,b]$, a discrete **numerical grid** is used. The numerical grid, $x$, consists of $n+1$ points with spacing, $h=\\frac{b-a}{n}$. Each point in $x$ is denoted as $x_i$ where $x_0=a$ and $x_n=b$. It is assumed that $f(x)$ can be calculated for any point of $x$ or that the values of $f(x_i)$ are given. The interval $[x_i,x_{i+1}]$ is a **subinterval** of $x$. Integral approximation methods use different shapes to calculate the exact area under $f(x)$ for each subinterval. By suming the area of each subinterval across the interval $[a,b]$ an approximation for the integral is made. "
      ],
      "metadata": {
        "id": "VZSfqsCY_V4v"
      }
    },
    {
      "cell_type": "code",
      "source": [
        "import numpy as np\n",
        "\n",
        "a = 0\n",
        "b = np.pi\n",
        "n = 11\n",
        "\n",
        "x = np.linspace(a,b,n)\n",
        "f = np.sin(x)\n",
        "\n",
        "print('Numerical Grid, x:')\n",
        "print(x)\n",
        "print('\\nCalculated Values of f(x):')\n",
        "print(f)"
      ],
      "metadata": {
        "colab": {
          "base_uri": "https://localhost:8080/"
        },
        "id": "JPiKMVu6Ea0G",
        "outputId": "48c6730d-136e-4117-a85f-f2b852f01c76"
      },
      "execution_count": 21,
      "outputs": [
        {
          "output_type": "stream",
          "name": "stdout",
          "text": [
            "Numerical Grid, x:\n",
            "[0.         0.31415927 0.62831853 0.9424778  1.25663706 1.57079633\n",
            " 1.88495559 2.19911486 2.51327412 2.82743339 3.14159265]\n",
            "\n",
            "Calculated Values of f(x):\n",
            "[0.00000000e+00 3.09016994e-01 5.87785252e-01 8.09016994e-01\n",
            " 9.51056516e-01 1.00000000e+00 9.51056516e-01 8.09016994e-01\n",
            " 5.87785252e-01 3.09016994e-01 1.22464680e-16]\n"
          ]
        }
      ]
    },
    {
      "cell_type": "markdown",
      "source": [
        "## 21.2 Riemanns Integral\n",
        "\n",
        "A Riemann Integral uses the sum of rectangular areas for each subinterval to approximate the integral from $[a,b]$. For the subinterval $[x_i,x_{i+1}]$, the width of the rectangle is the spacing $h=x_{i+1}-x_i$ and height is defined by the value of f(x). There are three heights to consider:\n",
        "\n",
        "1.   The Left Endpoint\n",
        "     $$f(x_i)$$\n",
        "\n",
        "     Which gives the integral,\n",
        "     $$\\int_a^bf(x)dx≈\\sum_{i=0}^{n-1}hf(x_i)$$\n",
        "\n",
        "2.   The Right Endpoint\n",
        "     $$f(x_{i+1})$$\n",
        "\n",
        "     Which gives the integral,\n",
        "     $$\\int_a^bf(x)dx≈\\sum_{i=0}^{n}hf(x_i)$$\n",
        "\n",
        "3.   The Midpoint Rule\n",
        "     $$f(\\frac{x_{i+1}+x_i}{2})$$\n",
        "\n",
        "     Which gives the integral,\n",
        "     $$\\int_a^bf(x)dx≈\\sum_{i=0}^{n-1}hf(y_i)$$\n",
        "     where\n",
        "     $$y_i=\\frac{x_{i+1}+x_i}{2}$$\n",
        "\n",
        "The left and right endpoints result in less accuracy. This is due to the fact that endpoints will either over or under estimate the area under the subinterval as the slope of $f(x)$ changes.\n",
        "\n",
        "For example, if $f(x)$ is increasing on the subinterval $[x_{i},x_{i+1}]$ than $f(x_{i+1})>f(x_i)$. Thus, if the left endpoint, $f(x_i)$, is used, the area under $f(x)$ will be an under estimation. Conversly, if the right endpoint, $f(x_{i+1})$, is used, the area under $f(x)$ will be an over estimation.\n",
        "\n",
        "Using the midpoint rule will result in more accuracy. The midpoint rule both over and under approximates the area of the subinterval at the same time.\n",
        "\n",
        "For example, if $f(x)$ is increasing on the subinterval $[x_{i},x_{i+1}]$ than $f(x_{i+1})>f(\\frac{x_{i+1}+x_i}{2})>f(x_i)$. Thus, there will be an over estimation of area for the interval $[f(x_i),f(\\frac{x_{i+1}+x_i}{2})]$ and an under estimation of the area for the interval $[f(\\frac{x_{i+1}+x_i}{2}),f(x_{i+1})]$.\n",
        "\n",
        "Additional, accuracy of the approximation can be increased by decreasing the width of the rectangle. The width can be decreased by adding more points to the numerical grid.\n"
      ],
      "metadata": {
        "id": "sRzq9XuG_uSP"
      }
    },
    {
      "cell_type": "code",
      "source": [
        "import numpy as np\n",
        "import matplotlib.pyplot as plt\n",
        "\n",
        "def grid(a,b,n):\n",
        "  h = (b-a)/(n-1)\n",
        "  x = np.linspace(a,b,n)\n",
        "  return h,x\n",
        "\n",
        "def riemann_left(func,a,b,n):\n",
        "  h,x = grid(a,b,n)\n",
        "  return h*sum(func(x[0:n-1]))\n",
        "\n",
        "def riemann_right(func,a,b,n):\n",
        "  h,x = grid(a,b,n)\n",
        "  return h*sum(func(x[1:n]))\n",
        "\n",
        "def riemann_midpoint(func,a,b,n):\n",
        "  h,x = grid(a,b,n)\n",
        "  return h*sum(func((x[0:n-1]+x[1:n])/2))\n",
        "\n",
        "\n",
        "start_point = 0\n",
        "end_point = 2\n",
        "\n",
        "f = lambda x: 5*(x**4)+6*(x**2)-5\n",
        "\n",
        "f_int = lambda x: (x**5)+2*(x**3)-5*x\n",
        "\n",
        "act_int = f_int(end_point)-f_int(start_point)\n",
        "\n",
        "print('Actual Integral: ',act_int)\n",
        "\n",
        "r_left = []\n",
        "r_right = []\n",
        "r_midpoint = []\n",
        "\n",
        "r_left_error = []\n",
        "r_right_error = []\n",
        "r_midpoint_error = []\n",
        "\n",
        "i = 0\n",
        "\n",
        "error = 5\n",
        "num_of_points = []\n",
        "num_of_points.append(2)\n",
        "\n",
        "while error > 0.01:\n",
        "\n",
        "  r_left.append(riemann_left(f,start_point,end_point,num_of_points[i]))\n",
        "  r_left_error.append(abs(act_int-r_left[i]))\n",
        "  r_right.append(riemann_right(f,start_point,end_point,num_of_points[i]))\n",
        "  r_right_error.append(abs(act_int-r_right[i]))\n",
        "  r_midpoint.append(riemann_midpoint(f,start_point,end_point,num_of_points[i]))\n",
        "  r_midpoint_error.append(abs(act_int-r_midpoint[i]))\n",
        "\n",
        "  if num_of_points[i]%10==0:\n",
        "    print('\\nNumber of Points: ',num_of_points[i])\n",
        "    print('Riemann Left: ',r_left[i])\n",
        "    print('Error: ',r_left_error[i])\n",
        "    print('Riemann Right: ',r_right[i])\n",
        "    print('Error: ',r_right_error[i])\n",
        "    print('Riemann Midpoint: ',r_midpoint[i])\n",
        "    print('Error: ',r_midpoint_error[i],'\\n')\n",
        "\n",
        "  error = r_midpoint_error[i]\n",
        "  num_of_points.append(num_of_points[i]+1)\n",
        "  i += 1\n",
        "\n",
        "num_of_points.pop()\n",
        "\n",
        "plt.plot(num_of_points,r_left,label='Riemann Left')\n",
        "plt.plot(num_of_points,r_right,label='Riemann Right')\n",
        "plt.plot(num_of_points,r_midpoint,label='Riemann Midpoint')\n",
        "plt.title('Integral Approximation of f(x)')\n",
        "plt.xlabel('Number of Points')\n",
        "plt.ylabel('Approximation')\n",
        "plt.legend()\n",
        "plt.show()\n",
        "\n",
        "print('\\n')\n",
        "\n",
        "plt.plot(num_of_points,r_left_error,label='Riemann Left')\n",
        "plt.plot(num_of_points,r_right_error,label='Riemann Right')\n",
        "plt.plot(num_of_points,r_midpoint_error,label='Riemann Midpoint')\n",
        "plt.title('Integral Approximation of f(x)')\n",
        "plt.xlabel('Number of Points')\n",
        "plt.ylabel('Error')\n",
        "plt.legend()\n",
        "plt.show()\n",
        "\n"
      ],
      "metadata": {
        "colab": {
          "base_uri": "https://localhost:8080/",
          "height": 1000
        },
        "id": "aY_z0NJqTaFS",
        "outputId": "7edf1aa8-6fa5-4613-c815-b7a145641e23"
      },
      "execution_count": 22,
      "outputs": [
        {
          "output_type": "stream",
          "name": "stdout",
          "text": [
            "Actual Integral:  38\n",
            "\n",
            "Number of Points:  10\n",
            "Riemann Left:  27.200833206320166\n",
            "Error:  10.799166793679834\n",
            "Riemann Right:  50.31194431743127\n",
            "Error:  12.31194431743127\n",
            "Riemann Midpoint:  37.62211045064268\n",
            "Error:  0.3778895493573202 \n",
            "\n",
            "\n",
            "Number of Points:  20\n",
            "Riemann Left:  32.69617329517114\n",
            "Error:  5.303826704828857\n",
            "Riemann Right:  43.64354171622377\n",
            "Error:  5.643541716223773\n",
            "Riemann Midpoint:  37.91508659387205\n",
            "Error:  0.08491340612795284 \n",
            "\n",
            "\n",
            "Number of Points:  30\n",
            "Riemann Left:  34.48671461554884\n",
            "Error:  3.5132853844511587\n",
            "Riemann Right:  41.659128408652286\n",
            "Error:  3.659128408652286\n",
            "Riemann Midpoint:  37.96354207168014\n",
            "Error:  0.036457928319862276 \n",
            "\n",
            "\n",
            "Number of Points:  40\n",
            "Riemann Left:  35.37365537598177\n",
            "Error:  2.6263446240182304\n",
            "Riemann Right:  40.7069887093151\n",
            "Error:  2.706988709315098\n",
            "Riemann Midpoint:  37.979839843188856\n",
            "Error:  0.020160156811144248 \n",
            "\n",
            "\n",
            "Number of Points:  50\n",
            "Riemann Left:  35.90309500709564\n",
            "Error:  2.0969049929043635\n",
            "Riemann Right:  40.147992966279304\n",
            "Error:  2.147992966279304\n",
            "Riemann Midpoint:  37.987228353589295\n",
            "Error:  0.012771646410705273 \n",
            "\n"
          ]
        },
        {
          "output_type": "display_data",
          "data": {
            "text/plain": [
              "<Figure size 432x288 with 1 Axes>"
            ],
            "image/png": "[encoded data removed]"
          },
          "metadata": {
            "needs_background": "light"
          }
        },
        {
          "output_type": "stream",
          "name": "stdout",
          "text": [
            "\n",
            "\n"
          ]
        },
        {
          "output_type": "display_data",
          "data": {
            "text/plain": [
              "<Figure size 432x288 with 1 Axes>"
            ],
            "image/png": "[encoded data removed]"
          },
          "metadata": {
            "needs_background": "light"
          }
        }
      ]
    },
    {
      "cell_type": "markdown",
      "source": [
        "## 21.3 Trapezoid Rule\n",
        "\n",
        "The Trapezoid Rule uses a trapezoid to approximate the area under $f(x)$ for each subinterval. The corners of the trapezoid are at $(x_i,0)$, $(x_{i+1},0)$, $(x_i,f(x_i))$, and $(x_{i+1},f(x_{i+1}))$. The area of the trapezoid is given by $h\\frac{f(x_i)+f(x_{i+1})}{2}$.\n",
        "\n",
        "Thus the integral is,\n",
        "\n",
        "$$\\int_a^bf(x)dx≈\\sum_{i=0}^{n-1}h\\frac{f(x_i)+f(x_{i+1})}{2}$$\n",
        "\n",
        "Overall, using the Trapezoid Rule results in the same accuracy as the Midpoint Rule.\n",
        "\n",
        "Expanding and simplifying the Trapezoid Rule summation, the following computationally efficient equation is given,\n",
        "\n",
        "$$\\int_a^bf(x)dx≈\\frac{h}{2}(f(x_0)+2(\\sum_{i=0}^{n-1}f(x_i)+f(x_n))$$"
      ],
      "metadata": {
        "id": "eQv96Aa8_0Wv"
      }
    },
    {
      "cell_type": "code",
      "source": [
        "import numpy as np\n",
        "import matplotlib.pyplot as plt\n",
        "\n",
        "def grid(a,b,n):\n",
        "  h = (b-a)/(n-1)\n",
        "  x = np.linspace(a,b,n)\n",
        "  return h,x\n",
        "\n",
        "def riemann_left(func,a,b,n):\n",
        "  h,x = grid(a,b,n)\n",
        "  return h*sum(func(x[0:n-1]))\n",
        "\n",
        "def riemann_right(func,a,b,n):\n",
        "  h,x = grid(a,b,n)\n",
        "  return h*sum(func(x[1:n]))\n",
        "\n",
        "def riemann_midpoint(func,a,b,n):\n",
        "  h,x = grid(a,b,n)\n",
        "  return h*sum(func((x[0:n-1]+x[1:n])/2))\n",
        "\n",
        "def trapezoid(func,a,b,n):\n",
        "  h,x = grid(a,b,n)\n",
        "  return (h/2)*(func(x[0])+2*sum(func(x[1:n-1]))+f(x[n-1]))\n",
        "\n",
        "start_point = 0\n",
        "end_point = 2\n",
        "\n",
        "f = lambda x: 5*(x**4)+6*(x**2)-5\n",
        "\n",
        "f_int = lambda x: (x**5)+2*(x**3)-5*x\n",
        "\n",
        "act_int = f_int(end_point)-f_int(start_point)\n",
        "\n",
        "print('Actual Integral: ',act_int)\n",
        "\n",
        "r_left = []\n",
        "r_right = []\n",
        "r_midpoint = []\n",
        "i_trapezoid = []\n",
        "\n",
        "r_left_error = []\n",
        "r_right_error = []\n",
        "r_midpoint_error = []\n",
        "i_trapezoid_error = []\n",
        "\n",
        "i = 0\n",
        "\n",
        "error = 5\n",
        "num_of_points = []\n",
        "num_of_points.append(2)\n",
        "\n",
        "while error > 0.01:\n",
        "\n",
        "  r_left.append(riemann_left(f,start_point,end_point,num_of_points[i]))\n",
        "  r_left_error.append(abs(act_int-r_left[i]))\n",
        "  r_right.append(riemann_right(f,start_point,end_point,num_of_points[i]))\n",
        "  r_right_error.append(abs(act_int-r_right[i]))\n",
        "  r_midpoint.append(riemann_midpoint(f,start_point,end_point,num_of_points[i]))\n",
        "  r_midpoint_error.append(abs(act_int-r_midpoint[i]))\n",
        "  i_trapezoid.append(trapezoid(f,start_point,end_point,num_of_points[i]))\n",
        "  i_trapezoid_error.append(abs(act_int-i_trapezoid[i]))\n",
        "\n",
        "  error = i_trapezoid_error[i]\n",
        "  num_of_points.append(num_of_points[i]+1)\n",
        "  i += 1\n",
        "\n",
        "num_of_points.pop()\n",
        "i -= 1\n",
        "\n",
        "print('\\nNumber of Points: ',num_of_points[i])\n",
        "print('Riemann Left: ',r_left[i])\n",
        "print('Error: ',r_left_error[i])\n",
        "print('Riemann Right: ',r_right[i])\n",
        "print('Error: ',r_right_error[i])\n",
        "print('Riemann Midpoint: ',r_midpoint[i])\n",
        "print('Error: ',r_midpoint_error[i])\n",
        "print('Trapezoid: ',i_trapezoid[i])\n",
        "print('Error: ',i_trapezoid_error[i],'\\n')\n",
        "\n",
        "plt.plot(num_of_points,r_left,label='Riemann Left')\n",
        "plt.plot(num_of_points,r_right,label='Riemann Right')\n",
        "plt.plot(num_of_points,r_midpoint,label='Riemann Midpoint')\n",
        "plt.plot(num_of_points,i_trapezoid,label='Trapezoid')\n",
        "plt.title('Integral Approximation of f(x)')\n",
        "plt.xlabel('Number of Points')\n",
        "plt.ylabel('Approximation')\n",
        "plt.legend()\n",
        "plt.show()\n",
        "\n",
        "print('\\n')\n",
        "\n",
        "plt.plot(num_of_points,r_left_error,label='Riemann Left')\n",
        "plt.plot(num_of_points,r_right_error,label='Riemann Right')\n",
        "plt.plot(num_of_points,r_midpoint_error,label='Riemann Midpoint')\n",
        "plt.plot(num_of_points,i_trapezoid_error,label='Trapezoid')\n",
        "plt.title('Integral Approximation of f(x)')\n",
        "plt.xlabel('Number of Points')\n",
        "plt.ylabel('Error')\n",
        "plt.legend()\n",
        "plt.show()"
      ],
      "metadata": {
        "colab": {
          "base_uri": "https://localhost:8080/",
          "height": 823
        },
        "id": "FzFheqnIlNG_",
        "outputId": "8e854a17-e8ff-422d-ca96-e5c2330a7bf2"
      },
      "execution_count": 23,
      "outputs": [
        {
          "output_type": "stream",
          "name": "stdout",
          "text": [
            "Actual Integral:  38\n",
            "\n",
            "Number of Points:  80\n",
            "Riemann Left:  36.693371651781675\n",
            "Error:  1.3066283482183252\n",
            "Riemann Right:  39.32628304418674\n",
            "Error:  1.326283044186738\n",
            "Riemann Midpoint:  37.99508637735566\n",
            "Error:  0.004913622644338034\n",
            "Trapezoid:  38.009827347984206\n",
            "Error:  0.00982734798420637 \n",
            "\n"
          ]
        },
        {
          "output_type": "display_data",
          "data": {
            "text/plain": [
              "<Figure size 432x288 with 1 Axes>"
            ],
            "image/png": "[encoded data removed]"
          },
          "metadata": {
            "needs_background": "light"
          }
        },
        {
          "output_type": "stream",
          "name": "stdout",
          "text": [
            "\n",
            "\n"
          ]
        },
        {
          "output_type": "display_data",
          "data": {
            "text/plain": [
              "<Figure size 432x288 with 1 Axes>"
            ],
            "image/png": "[encoded data removed]"
          },
          "metadata": {
            "needs_background": "light"
          }
        }
      ]
    },
    {
      "cell_type": "code",
      "source": [
        ""
      ],
      "metadata": {
        "id": "MCqdZ-RJrguA"
      },
      "execution_count": null,
      "outputs": []
    }
  ]
}