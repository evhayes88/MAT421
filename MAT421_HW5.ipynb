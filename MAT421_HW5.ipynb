{
  "nbformat": 4,
  "nbformat_minor": 0,
  "metadata": {
    "colab": {
      "name": "MAT421_HW5.ipynb",
      "provenance": [],
      "collapsed_sections": [],
      "toc_visible": true
    },
    "kernelspec": {
      "name": "python3",
      "display_name": "Python 3"
    },
    "language_info": {
      "name": "python"
    }
  },
  "cells": [
    {
      "cell_type": "markdown",
      "source": [
        "---\n",
        "MAT421 - Applied Computational Methods\n",
        "\n",
        "Arizona State University\n",
        "\n",
        "Homework #5\n",
        "\n",
        "Written by Edward Hayes\n",
        "\n",
        "---\n",
        "This notebook is a review and an elaboration of the topics covered in the Chapter 1 lecture notes from MAT421."
      ],
      "metadata": {
        "id": "w9PqwvO0XPvp"
      }
    },
    {
      "cell_type": "markdown",
      "source": [
        "# Chapter 1. Linear Algebra"
      ],
      "metadata": {
        "id": "zuDWUDHXDsKM"
      }
    },
    {
      "cell_type": "markdown",
      "source": [
        "## 1.1 Introduction\n",
        "\n",
        "Linear algebra is used in a variety of fields. The use of linear algebra is very important to data science, machine learning and many engineering applications."
      ],
      "metadata": {
        "id": "3qs3UpDcD7Pb"
      }
    },
    {
      "cell_type": "markdown",
      "source": [
        "## 1.2 Elements of Linear Algebra\n",
        "\n",
        "$V=ℝ^n$\n",
        "\n",
        "\n"
      ],
      "metadata": {
        "id": "F5F6JgbrEO__"
      }
    },
    {
      "cell_type": "markdown",
      "source": [
        "### 1.2.1 Linear Spaces\n",
        "\n",
        "#### 1.2.1.1 Linear Combinations\n",
        "\n",
        "A linear combination is the creation of a new vector from a subset by multiplying each vector by a scalar and adding the results. A linear combination results in a linear subspace.\n",
        "\n",
        "**Definition: Linear Subspace**\\\n",
        "$U$ is a subset of $V$, $U⊆V$, that is closed under vector addition and scalar multiplication. That is, for all $\\bar{u}_1,\\bar{u}_2∈U$ and $α∈U$, it holds that\n",
        "\n",
        "- $\\bar{u}_1+\\bar{u}_2∈U$\n",
        "- $α\\bar{u}_1∈U$\n",
        "\n",
        "**Definition: Span**\\\n",
        "Let $\\bar{w}_1,...,\\bar{w}_m∈V$. The span of {$\\bar{w}_1,...,\\bar{w}_m$}, denoted span($\\bar{w}_1,...,\\bar{w}_m$), is the set of all linear combinations of $\\bar{w}_j$. That is,\n",
        "\n",
        "- span($\\bar{w}_1,...,\\bar{w}_m$) $=\\{∑_{j=1}^m α_j\\bar{w}_j:α_1,...,α_m∈ℝ\\}$\n",
        "\n",
        "**Definition: Column Space**\\\n",
        "Let $A∈ℝ^{n×m}$ be a $n×m$ matrix with columns $\\bar{a}_1,...,\\bar{a}_m∈ℝ^n$. The column space of A, denote col(A), is the span of the columns of A, that is,\n",
        "\n",
        "- col(A) $=$ span($\\bar{a}_1,...,\\bar{a}_m$)$∈ℝ^n$\n",
        "\n",
        "#### 1.2.1.2 Linear Independence and Dimension\n",
        "\n",
        "**Definition: Linear Indepedence**\\\n",
        "A list of vectors $\\bar{u}_1,...,\\bar{u}_m$ is linearly independent if none of them can be written as a linear combination of the others, that is,\n",
        "\n",
        "- $∀i$, $\\bar{u}_i∉$ span({$\\bar{u}_j:j\\neq{i}$})\n",
        "\n",
        "**Definition: Basis of a Space**\\\n",
        "Let $U$ be a linear subspace of $V$. A basis of $U$ is a list of vectors $\\bar{u}_1,..,\\bar{u}_m$ in $U$ that,\n",
        "\n",
        "- Span $U$, $U$=span($\\bar{u}_1,..,\\bar{u}_m$)\n",
        "- Linearly independent\n",
        "\n",
        "**Dimension Theorem**\\\n",
        "Let $U$ be a linear subspace of V. Any basis of $U$ always has the same number of elements. All bases of $U$ have the same length, that is, the same number of elements. We call this number the dimension of $U$ and denote it dim($U$)."
      ],
      "metadata": {
        "id": "iZ0dcnvhRp9w"
      }
    },
    {
      "cell_type": "markdown",
      "source": [
        "### 1.2.2 Orthogonality\n",
        "\n",
        "#### 1.2.2.1 Orthonormal Bases\n",
        "\n",
        "**Definition: Norm and Inner Product**\n",
        "\n",
        "- $⟨\\bar{u},\\bar{v}⟩=\\bar{u}·\\bar{v}=∑_i^nu_iv_i$\n",
        "- $\\|\\bar{u}\\|=\\sqrt{\\sum_i^nu_i^2}$\n",
        "\n",
        "**Definition: Orthonormal**\\\n",
        "A list of vectors {$\\bar{u}_1,..,\\bar{u}_m$} is orthonormal if the $\\bar{u}_i$'s are pairwise orthogonal and each has a norm 1, that is $∀i$ and $j\\neq{i}$,\n",
        "\n",
        "- $⟨\\bar{u}_i,\\bar{u}_j⟩=0$\n",
        "- $\\|\\bar{u}_i\\|=1$\n",
        "\n",
        "**Orthonormal Basis Expansion**\\\n",
        "Let $\\bar{q}_1,..,\\bar{q}_m$ be an orthonormal basis of 𝓤 and let $\\bar{u}∈𝓤$. Then $\\bar{u}=∑_{j=1}^m⟨\\bar{u},\\bar{q}_j⟩\\bar{q}_j$.\n"
      ],
      "metadata": {
        "id": "d3yWGfqwZmF9"
      }
    },
    {
      "cell_type": "markdown",
      "source": [
        "### 1.2.3 Gram-Schmidt Process\n",
        "\n",
        "The Gram-Schmidt algorithm is used to obtain an orthonormal basis.\n",
        "\n",
        "Let $\\bar{a}_1,...,\\bar{a}_m$ in $ℝ^n$ be linearly independent. Then there exist an orthonormal basis $\\bar{q}_1,...,\\bar{q}_m$ of span($\\bar{a}_1,...,\\bar{a}_m$)"
      ],
      "metadata": {
        "id": "qFMdj0PWZv2N"
      }
    },
    {
      "cell_type": "markdown",
      "source": [
        "### 1.2.4 Eigenvalues and Eigenvectors\n",
        "\n",
        "**Definition: Eigenvalues and Eigenvectors**\\\n",
        "Let $A∈ℝ^{d×d}$ be a square matrix. Then $λ∈ℝ$ is an eigenvalue of $A$ if there exists a nonzero vector $\\bar{x}\\neq{\\bar{0}}$ such that $A\\bar{x}=λ\\bar{x}$.\n",
        "\n",
        "$\\bar{x}$ is referred to as an eigenvector."
      ],
      "metadata": {
        "id": "XCwRQSq1Z26y"
      }
    },
    {
      "cell_type": "markdown",
      "source": [
        "## 1.3 Linear Regression\n",
        "\n"
      ],
      "metadata": {
        "id": "5q35U--IETAp"
      }
    },
    {
      "cell_type": "markdown",
      "source": [
        "### 1.3.1 QR Decomposition\n",
        "\n",
        "Gran-Schmidt algorithm is used to obtain an orthonormal basis, ($\\bar{q}_1,...,\\bar{q_m}$), from a linearly independent set of span($\\bar{a}_!,...,\\bar{a}_m$).\n",
        "\n",
        "Given $A$ and $Q$ of $n×m$ matrices from the Gran-Schmidt algorithm, QR decomposition is $A=QR$. Column $i$ of the $m×m$ matrix $R$ contains the coefficients of the linear combination of $q_j$'s that produce $a_i$."
      ],
      "metadata": {
        "id": "Gtq10fl4aFIY"
      }
    },
    {
      "cell_type": "markdown",
      "source": [
        "### 1.3.2 Least-Squares Problems\n",
        "\n",
        "Used where matrix inverses cannot be use, a least square problem is used.\n",
        "\n",
        "A solution to\n",
        "\n",
        "\\begin{equation}\n",
        "\\min_{\\bar{x}∈ℝ^m}\\|A\\bar{x}-\\bar{b}\\|\n",
        "\\end{equation}\n",
        "\n",
        "Satisfies\n",
        "\n",
        "\\begin{equation}\n",
        "A^TA\\bar{x}=A^T\\bar{b}\n",
        "\\end{equation}\n",
        "\n",
        "Or\n",
        "\n",
        "\\begin{equation}\n",
        "\\bar{x}=(A^TA)^{-1}A^T\\bar{b}\n",
        "\\end{equation}"
      ],
      "metadata": {
        "id": "UFdtgl7KaJCi"
      }
    },
    {
      "cell_type": "markdown",
      "source": [
        "### 1.3.3 Linear Regression\n",
        "\n",
        "In linear regression a function is calculated to fit given $n$ data points, $\\{(\\bar{x}_i,y_i)\\}_{i=1}^n$. Then the coefficients to minimize the error between the data and function is found.\n",
        "\n",
        "Error is $\\sum_{i=1}^n(y_i-\\hat{y})^2$\n",
        "\n",
        "Predicted Value (function) is $y_i=\\beta_0+∑_{j=1}^dβ_jx_{ij}$\n",
        "\n",
        "It is then a least squares problem,\n",
        "\n",
        "\\begin{equation}\n",
        "\\min_{\\beta}\\|\\bar{y}-A\\bar{\\beta}\\|\n",
        "\\end{equation}"
      ],
      "metadata": {
        "id": "Lv0dygMoaRsJ"
      }
    }
  ]
}