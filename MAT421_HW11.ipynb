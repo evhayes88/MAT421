{
  "nbformat": 4,
  "nbformat_minor": 0,
  "metadata": {
    "colab": {
      "name": "MAT421_HW11.ipynb",
      "provenance": [],
      "collapsed_sections": []
    },
    "kernelspec": {
      "name": "python3",
      "display_name": "Python 3"
    },
    "language_info": {
      "name": "python"
    }
  },
  "cells": [
    {
      "cell_type": "markdown",
      "source": [
        "---\n",
        "MAT421 - Applied Computational Methods\n",
        "\n",
        "Arizona State University\n",
        "\n",
        "Homework #11\n",
        "\n",
        "Written by Edward Hayes\n",
        "\n",
        "---\n",
        "This notebook is a review and an elaboration of the topics covered in Chapter 22 from *Python Programming and Numerical Methods - A Guide for Engineers and Scientists*."
      ],
      "metadata": {
        "id": "YHNW36LRKyhu"
      }
    },
    {
      "cell_type": "markdown",
      "source": [
        "---\n",
        "# Chapter 22. Ordinary Differential Equation - Initial Value Problems\n",
        "---"
      ],
      "metadata": {
        "id": "zHCWGUxaK5V6"
      }
    },
    {
      "cell_type": "markdown",
      "source": [
        "## 22.1 ODE Initial Value Problem Statement\n",
        "\n",
        "A **differential equation** is an equation that represents the relationships between a function, $f(x)$, the independent variable, $x$, and it's derivatives. An **ordinary differential equation (ODE)** is a differential equation of one dimension. An $n^{th}$ order ODE can be written as,\n",
        "\n",
        "$$F\\bigg(x,f(x),\\frac{df(x)}{dx},\\frac{d^2f(x)}{dx^2},\\frac{d^3f(x)}{dx^3},…,\\frac{d^{n-1}f(x)}{dx^{n-1}}\\bigg)=\\frac{d^nf(x)}{dx^n}$$\n",
        "\n",
        "<br>\n",
        "\n",
        "An example of an ODE is a pendulum of length $l$ and mass $m$. As the pendulum swings, it's angle with respect to the verticle axis changes over time. This change is given by $Θ(t)$. By summing the forces on the pendulum and using algebraic manipulation the ODE is given as,\n",
        "\n",
        "$$ml\\frac{d^2\\theta(t)}{dt^2}=-mgsin(\\theta(t))$$\n",
        "\n",
        "<br>\n",
        "\n",
        "There are multiple solutions to an ODE.\n",
        "\n",
        "*   General Solution\n",
        "\n",
        "    A function, $g(x)$, that satisfies the entire differential equation.\n",
        "\n",
        "*   Particular Solution\n",
        "\n",
        "    A function, $p(x)$, that satisfies the differential equation and $n$ known values at certain points.\n",
        "\n",
        "<br>\n",
        "\n",
        "For the pendulum example above, lets assume the angles are very small and thus $sin(\\theta(t))≈\\theta(t)$. The ODE is reduced to,\n",
        "\n",
        "$$l\\frac{d^2\\theta(t)}{dt^2}=-g\\theta(t)$$\n",
        "\n",
        "and the general solution is,\n",
        "\n",
        "$$\\theta_g(t)=cos\\bigg(\\sqrt{\\frac{g}{l}}t\\bigg)$$\n",
        "\n",
        "If at $t=0$, angle $\\theta_0$ and angular velocity of $0$ are known values then the particular solution is,\n",
        "\n",
        "$$\\theta_p(t)=\\theta_0cos\\bigg(\\sqrt{\\frac{g}{l}}t\\bigg)$$\n",
        "\n",
        "<br>\n",
        "\n",
        "A set of known values for an ODE are initial values. Finding the the solution to an ODE given initial values is called an **initial value problem**.\n",
        "\n",
        "For an $n^{th}$ order ODE, the initial values are the values of the terms at $x=0,f(0),f^1(0),f^2(0),…,f^{n-1}(0)$.\n",
        "\n",
        "<br>\n",
        "\n",
        "Most ODE solutions are difficult to solve and often require numerical methods."
      ],
      "metadata": {
        "id": "pYtddfWVLZqk"
      }
    },
    {
      "cell_type": "markdown",
      "source": [
        "##22.2 Reduction of Order\n",
        "\n",
        "There are many numerical methods specifically designed for first order differential equations. As a result, higher order differential equations need to be reduce to a first order differential equation. \n",
        "\n",
        "<br>\n",
        "\n",
        "A $n^{th}$ order differential equation can be reduced using a state of the system vector, $S(t)$, and it's derivative. \n",
        "\n",
        "$$S(t)=\\begin{bmatrix}f(t)\\\\f^{(1)}(t)\\\\f^{(2)}(t)\\\\…\\\\f^{(n-1)}(t)\\end{bmatrix}$$\n",
        "\n",
        "<br>\n",
        "\n",
        "$$\\frac{dS(t)}{dt}=\\begin{bmatrix}f^{(1)}(t)\\\\f^{(2)}(t)\\\\f^{(3)}(t)\\\\…\\\\f^{(n)}(t)\\end{bmatrix}=\\begin{bmatrix}S_2(t)\\\\S_3(t)\\\\S4(t)\\\\S_5(t)\\\\…\\\\F(t,S_1(t),…,S_{n-1}(t))\\end{bmatrix}$$\n",
        "\n",
        "<br>\n",
        "\n",
        "This turns the $n^{th}$ order ODE into $n$ $1^{st}$ order ODEs that are coupled together. Reducing the order will result in an ODE with multiple variables."
      ],
      "metadata": {
        "id": "F8_LjKvfL9Ox"
      }
    },
    {
      "cell_type": "markdown",
      "source": [
        "##22.3 The Euler Method\n",
        "\n",
        "Let $\\frac{dS(t)}{dt}=F(t,S(t))$ be a $1^{st}$ order ODE and $t$ be numerical grid $[t_0,t_f]$ with spacing $h$. Assuming $t_0=0$ and $t_f=Nh$ where $N$ is a positive integer.\n",
        "\n",
        "The linear approximation of $S(t)$ around $t_j$ at $t_{j+1}$ is\n",
        "\n",
        "$$S(t_{j+1})=S(t_j)+(t_{j+1}-t_j)\\frac{dS(t_j)}{dt}$$\n",
        "\n",
        "or\n",
        "\n",
        "$$(t_{j+1})=S(t_j)+hF(t_j,S(t_j))$$\n",
        "\n",
        "This is the **Explicit Euler Formula**. The formula can be used to integrate the states from $t_0$ to $t_f$ using the following steps:\n",
        "\n",
        "1.   Store $S_0=S(t_0)$ in an array, $S$\n",
        "2.   Compute $S(t_1)=S_0+hF(t_0,S_0)$\n",
        "3.   Store $S_1=S(t_1)$ in $S$\n",
        "4.   Repeat Steps 1, 2, and 3 incrementing $t$ until $t_f$\n",
        "\n",
        "Other methods are,\n",
        "\n",
        "<br>\n",
        "\n",
        "Implicit Euler Formula\n",
        "$$S(t_{j+1})=S(t_j)+hF(t_{j+1},S(t_{j+1}))$$\n",
        "\n",
        "<br>\n",
        "\n",
        "Trapezoidal Formula\n",
        "$$S(t_{j+1})=S(t_j)+\\frac{h}{2}(F(t_{j},S(t_{j}))+F(t_{j+1},S(t_{j+1})))$$\n",
        "\n",
        "<br>\n",
        "\n",
        "For example, below is Python code that plots the solution for $\\frac{df(t)}{dt}=e^{-t}$ with initial value $f_0=-1$ for multiple step sizes, $h$."
      ],
      "metadata": {
        "id": "LqrgW982MEm8"
      }
    },
    {
      "cell_type": "code",
      "source": [
        "import numpy as np\n",
        "import matplotlib.pyplot as plt\n",
        "\n",
        "def explicit_euler(h,f,f0):\n",
        "\n",
        "  # numerical grid\n",
        "  t = np.arange(0,1+h,h)\n",
        "\n",
        "  # s array\n",
        "  s = np.zeros(len(t))\n",
        "  s[0] = f0\n",
        "\n",
        "  # steps\n",
        "  for i in range(0,len(t)-1):\n",
        "    s[i+1] = s[i]+h*f(t[i],s[i])\n",
        "\n",
        "  return t, s\n",
        " \n",
        "# ODE\n",
        "f = lambda t,s: np.exp(-t)\n",
        "\n",
        "# initial value\n",
        "f0 = -1\n",
        "\n",
        "# step size of 1\n",
        "h1 = 1\n",
        "t1, s1 = explicit_euler(h1,f,f0)\n",
        "\n",
        "# step size of 0.1\n",
        "h2 = 0.1\n",
        "t2, s2 = explicit_euler(h2,f,f0)\n",
        "\n",
        "# step size of 0.01\n",
        "h3 = 0.01\n",
        "t3, s3 = explicit_euler(h3,f,f0)\n",
        "\n",
        "plt.plot(t3,-np.exp(-t3),'g',label='Exact')\n",
        "plt.plot(t1,s1,'bo--',label='h=1')\n",
        "plt.plot(t2,s2,'ro--',label='h=0.1')\n",
        "plt.plot(t3,s3,'k--',label='h=0.01')\n",
        "plt.title('ODE Approximation')\n",
        "plt.xlabel('t')\n",
        "plt.ylabel('f(t)')\n",
        "plt.legend()\n",
        "plt.grid()\n",
        "plt.show()\n",
        "\n"
      ],
      "metadata": {
        "colab": {
          "base_uri": "https://localhost:8080/",
          "height": 295
        },
        "id": "d74EC5eYnUre",
        "outputId": "1c3bcda0-82b4-4341-cced-35f439b2b90b"
      },
      "execution_count": 9,
      "outputs": [
        {
          "output_type": "display_data",
          "data": {
            "text/plain": [
              "<Figure size 432x288 with 1 Axes>"
            ],
            "image/png": "[encoded data removed]"
          },
          "metadata": {
            "needs_background": "light"
          }
        }
      ]
    }
  ]
}