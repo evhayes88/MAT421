{
  "nbformat": 4,
  "nbformat_minor": 0,
  "metadata": {
    "colab": {
      "name": "MAT421_HW10.ipynb",
      "provenance": [],
      "collapsed_sections": []
    },
    "kernelspec": {
      "name": "python3",
      "display_name": "Python 3"
    },
    "language_info": {
      "name": "python"
    }
  },
  "cells": [
    {
      "cell_type": "markdown",
      "source": [
        "---\n",
        "MAT421 - Applied Computational Methods\n",
        "\n",
        "Arizona State University\n",
        "\n",
        "Homework #10\n",
        "\n",
        "Written by Edward Hayes\n",
        "\n",
        "---\n",
        "This notebook is a review and an elaboration of the topics covered in Chapter 21 from *Python Programming and Numerical Methods - A Guide for Engineers and Scientists*."
      ],
      "metadata": {
        "id": "iIiFXRtbwF8e"
      }
    },
    {
      "cell_type": "markdown",
      "source": [
        "---\n",
        "# Chapter 21. Numerical Integration\n",
        "---"
      ],
      "metadata": {
        "id": "4yVV7eu_wHra"
      }
    },
    {
      "cell_type": "markdown",
      "source": [
        "## 21.4 Simpson's Rule\n",
        "\n",
        "Simpson's Rule uses two subintervals, $[x_{i-1},x_i]$ and $[x\n",
        "_i,x_{i+1}]$, with step size , $h$, to approximate the area under $f(x)$. It does this by fitting a quadratic polynomial across the subintervals and then integrating the quadratic polynomial exactly.\n",
        "\n",
        "The quadratic polynomial is often approximated using Lagrange Polynomial Interpolation.\n",
        "\n",
        "Using Lagrange, $P(x)$, with some algebraic manipulation, the integral over any two subintervals is given as,\n",
        "\n",
        "$$\\int_{x_{i-1}}^{x_{i+1}}P_i(x)dx=\\frac{h}{3}(f(x_{i-1})+4f(x_i)+f(x_{i+1}))$$\n",
        "\n",
        "Summing the subinterval integrals from $a$ to $b$ gives the integral of $f(x)$,\n",
        "\n",
        "$$\\int_a^bf(x)dx≈\\frac{h}{3}[f(x_0)+4(\\sum_{i=1,i odd}^{n-1}f(x_i))+2(\\sum_{i=2,i even}^{n-2}f(x_i))+f(x_n)]$$\n",
        "\n",
        "Note that there must be an **even** number of subintervals.\n",
        "\n",
        "Simpson's Rule is more accurate than the Riemann and Trapezoid methods.\n"
      ],
      "metadata": {
        "id": "r1o_pmLJwMbI"
      }
    },
    {
      "cell_type": "code",
      "source": [
        "import numpy as np\n",
        "import matplotlib.pyplot as plt\n",
        "\n",
        "def grid(a,b,n):\n",
        "  h = (b-a)/(n-1)\n",
        "  x = np.linspace(a,b,n)\n",
        "  return h,x\n",
        "\n",
        "def riemann_midpoint(func,a,b,n):\n",
        "  h,x = grid(a,b,n)\n",
        "  return h*sum(func((x[0:n-1]+x[1:n])/2))\n",
        "\n",
        "def trapezoid(func,a,b,n):\n",
        "  h,x = grid(a,b,n)\n",
        "  return (h/2)*(func(x[0])+2*sum(func(x[1:n-1]))+f(x[n-1]))\n",
        "\n",
        "def simpsons(func,a,b,n):\n",
        "  h,x = grid(a,b,n)\n",
        "  return (h/3)*(func(x[0])+4*sum(func(x[1:n-1:2]))\\\n",
        "                +2*sum(func(x[0:n-2:2]))+func(x[n-1]))\n",
        "\n",
        "start_point = 0\n",
        "end_point = np.pi\n",
        "\n",
        "f = lambda x: np.sin(x)\n",
        "\n",
        "f_int = lambda x: -np.cos(x)\n",
        "\n",
        "act_int = f_int(end_point)-f_int(start_point)\n",
        "\n",
        "print('Actual Integral: ',act_int)\n",
        "\n",
        "r_midpoint = []\n",
        "i_trapezoid = []\n",
        "i_simpsons = []\n",
        "\n",
        "r_midpoint_error = []\n",
        "i_trapezoid_error = []\n",
        "i_simpsons_error = []\n",
        "\n",
        "i = 0\n",
        "\n",
        "error = 5\n",
        "num_of_points = []\n",
        "num_of_points.append(3)\n",
        "\n",
        "while error > 0.0001:\n",
        "\n",
        "  r_midpoint.append(riemann_midpoint(f,start_point,end_point,num_of_points[i]))\n",
        "  r_midpoint_error.append(abs(act_int-r_midpoint[i]))\n",
        "  i_trapezoid.append(trapezoid(f,start_point,end_point,num_of_points[i]))\n",
        "  i_trapezoid_error.append(abs(act_int-i_trapezoid[i]))\n",
        "  i_simpsons.append(simpsons(f,start_point,end_point,num_of_points[i]))\n",
        "  i_simpsons_error.append(abs(act_int-i_simpsons[i]))\n",
        "\n",
        "  error = i_simpsons_error[i]\n",
        "  num_of_points.append(num_of_points[i]+2)\n",
        "  i += 1\n",
        "\n",
        "num_of_points.pop()\n",
        "i -= 1\n",
        "\n",
        "print('Riemann Midpoint: ',r_midpoint[i])\n",
        "print('Error: ',r_midpoint_error[i])\n",
        "print('Trapezoid: ',i_trapezoid[i])\n",
        "print('Error: ',i_trapezoid_error[i])\n",
        "print('Simpsons: ',i_simpsons[i])\n",
        "print('Error: ',i_simpsons_error[i],'\\n')\n",
        "\n",
        "plt.plot(num_of_points,r_midpoint,label='Riemann Midpoint')\n",
        "plt.plot(num_of_points,i_trapezoid,label='Trapezoid')\n",
        "plt.plot(num_of_points,i_simpsons,label=\"Simpson's\")\n",
        "plt.title('Integral Approximation of f(x)')\n",
        "plt.xlabel('Number of Points')\n",
        "plt.ylabel('Approximation')\n",
        "plt.legend()\n",
        "plt.show()\n",
        "\n",
        "print('\\n')\n",
        "\n",
        "plt.plot(num_of_points,r_midpoint_error,label='Riemann Midpoint')\n",
        "plt.plot(num_of_points,i_trapezoid_error,label='Trapezoid')\n",
        "plt.plot(num_of_points,i_simpsons_error,label=\"Simpson's\")\n",
        "plt.title('Integral Approximation of f(x)')\n",
        "plt.xlabel('Number of Points')\n",
        "plt.ylabel('Error')\n",
        "plt.legend()\n",
        "plt.show()"
      ],
      "metadata": {
        "colab": {
          "base_uri": "https://localhost:8080/",
          "height": 751
        },
        "id": "Anf4EjCJYLmq",
        "outputId": "64bc2294-565f-4561-a8e6-a9a223704951"
      },
      "execution_count": 1,
      "outputs": [
        {
          "output_type": "stream",
          "name": "stdout",
          "text": [
            "Actual Integral:  2.0\n",
            "Riemann Midpoint:  2.0057230150235816\n",
            "Error:  0.005723015023581635\n",
            "Trapezoid:  1.9885637765843156\n",
            "Error:  0.011436223415684399\n",
            "Simpsons:  2.0000526243411856\n",
            "Error:  5.26243411855809e-05 \n",
            "\n"
          ]
        },
        {
          "output_type": "display_data",
          "data": {
            "text/plain": [
              "<Figure size 432x288 with 1 Axes>"
            ],
            "image/png": "[encoded data removed]"
          },
          "metadata": {
            "needs_background": "light"
          }
        },
        {
          "output_type": "stream",
          "name": "stdout",
          "text": [
            "\n",
            "\n"
          ]
        },
        {
          "output_type": "display_data",
          "data": {
            "text/plain": [
              "<Figure size 432x288 with 1 Axes>"
            ],
            "image/png": "[encoded data removed]"
          },
          "metadata": {
            "needs_background": "light"
          }
        }
      ]
    },
    {
      "cell_type": "markdown",
      "source": [
        "## 21.5 Computing Integrals in Python\n",
        "\n",
        "The scipy.integrate subpackage offers many functions for integration. Some include trapezoid, cumulative trapezoid, and general purpose functions for single, double & triple integrals."
      ],
      "metadata": {
        "id": "tPO7RLTSwaJF"
      }
    },
    {
      "cell_type": "code",
      "source": [
        "\n",
        "from scipy.integrate import quad\n",
        "from scipy.integrate import trapz\n",
        "import matplotlib.pyplot as plt\n",
        "\n",
        "def grid(a,b,n):\n",
        "  h = (b-a)/(n-1)\n",
        "  x = np.linspace(a,b,n)\n",
        "  return h,x\n",
        "\n",
        "def riemann_midpoint(func,a,b,n):\n",
        "  h,x = grid(a,b,n)\n",
        "  return h*sum(func((x[0:n-1]+x[1:n])/2))\n",
        "\n",
        "def trapezoid(func,a,b,n):\n",
        "  h,x = grid(a,b,n)\n",
        "  return (h/2)*(func(x[0])+2*sum(func(x[1:n-1]))+f(x[n-1]))\n",
        "\n",
        "def simpsons(func,a,b,n):\n",
        "  h,x = grid(a,b,n)\n",
        "  return (h/3)*(func(x[0])+4*sum(func(x[1:n-1:2]))\\\n",
        "                +2*sum(func(x[0:n-2:2]))+func(x[n-1]))\n",
        "\n",
        "a = 0\n",
        "b = np.pi\n",
        "n = 11\n",
        "\n",
        "x = np.linspace(a,b,n)\n",
        "\n",
        "f = lambda x: np.sin(x)\n",
        "f_int = lambda x: -np.cos(x)\n",
        "\n",
        "act_int = f_int(b)-f_int(a)\n",
        "\n",
        "riemann = riemann_midpoint(f,a,b,n)\n",
        "trapezoid1 = trapezoid(f,a,b,n)\n",
        "simpsons = simpsons(f,a,b,n)\n",
        "trapezoid2 = trapz(np.sin(x),x)\n",
        "i_quad, i_quad_error = quad(f,a,b)\n",
        "\n",
        "print('Actual Integral: ',act_int,'\\n')\n",
        "print('Riemann Midpoint: ',riemann)\n",
        "print('Error: ',act_int-riemann)\n",
        "print('Python General Quad: ',i_quad)\n",
        "print('Error : ',act_int-i_quad)\n",
        "print('Trapezoid: ',trapezoid1)\n",
        "print('Error: ',act_int-trapezoid1)\n",
        "print('Python Trapezoid: ',trapezoid2)\n",
        "print('Error: ',act_int-trapezoid2)\n",
        "print('Simpsons: ',simpsons)\n",
        "print('Error: ',act_int-simpsons)"
      ],
      "metadata": {
        "colab": {
          "base_uri": "https://localhost:8080/"
        },
        "id": "wLHcROMdjA_H",
        "outputId": "c3690513-0625-4b0c-e50f-546242a0bf6e"
      },
      "execution_count": 2,
      "outputs": [
        {
          "output_type": "stream",
          "name": "stdout",
          "text": [
            "Actual Integral:  2.0 \n",
            "\n",
            "Riemann Midpoint:  2.0082484079079745\n",
            "Error:  -0.008248407907974542\n",
            "Python General Quad:  2.0\n",
            "Error :  0.0\n",
            "Trapezoid:  1.9835235375094546\n",
            "Error:  0.01647646249054535\n",
            "Python Trapezoid:  1.9835235375094544\n",
            "Error:  0.016476462490545574\n",
            "Simpsons:  2.0001095173150043\n",
            "Error:  -0.00010951731500430384\n"
          ]
        }
      ]
    }
  ]
}