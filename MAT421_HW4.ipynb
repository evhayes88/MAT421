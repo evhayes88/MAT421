{
  "nbformat": 4,
  "nbformat_minor": 0,
  "metadata": {
    "colab": {
      "name": "MAT421_HW4.ipynb",
      "provenance": [],
      "collapsed_sections": [],
      "toc_visible": true
    },
    "kernelspec": {
      "name": "python3",
      "display_name": "Python 3"
    },
    "language_info": {
      "name": "python"
    }
  },
  "cells": [
    {
      "cell_type": "markdown",
      "source": [
        "---\n",
        "MAT421 - Applied Computational Methods\n",
        "\n",
        "Arizona State University\n",
        "\n",
        "Homework #4\n",
        "\n",
        "Written by Edward Hayes\n",
        "\n",
        "---\n",
        "This notebook is a review and an elaboration of the topics covered in Chapter 19 from *Python Programming and Numerical Methods - A Guide for Engineers and Scientists*."
      ],
      "metadata": {
        "id": "-yu0Ffr25Sli"
      }
    },
    {
      "cell_type": "markdown",
      "source": [
        "---\n",
        "# Chapter 19. Root Finding\n",
        "---"
      ],
      "metadata": {
        "id": "7rdpn14v5fYD"
      }
    },
    {
      "cell_type": "markdown",
      "source": [
        "## 19.1 Root Finding Problem Statement\n",
        "\n",
        "If $f(x)=0$ for some $x$, then $x$ is said to be a root, or zero, of the function $f(x)$. While the roots of some functions can be exactly calculated, others must be numerically approximated.\n",
        "\n",
        "For instance, for a function such as $f(x)=ax^2+bx+c$ the roots can be exactly calculated using the quadratic formula, $x=\\frac{-b±\\sqrt{b^2-4ac}}{2a}$. However, for a function such as $f(x)=cos(x)-x$ there is no exact solution for the roots of the function.\n",
        "\n",
        "Below are examples with Python scripts plotting the functions and roots."
      ],
      "metadata": {
        "id": "ABnSD8om6I_3"
      }
    },
    {
      "cell_type": "markdown",
      "source": [
        "### Example 1.\n",
        "\n",
        "Find the roots for the function $f(x)=2x^2+3x+1$.\n",
        "\n",
        "$x=\\frac{-(3)±\\sqrt{(3)^2-4(2)(1)}}{2(2)}=\\frac{-3±1}{4}=-1,-\\frac{1}{2}$"
      ],
      "metadata": {
        "id": "sIMY6P86AL2J"
      }
    },
    {
      "cell_type": "markdown",
      "source": [
        "### Example 2.\n",
        "\n",
        "Find the roots for the function $f(x)=x^2-16$.\n",
        "\n",
        "$x=±\\sqrt{16}=-4,4$"
      ],
      "metadata": {
        "id": "f0VCAv7SCdM3"
      }
    },
    {
      "cell_type": "code",
      "source": [
        "# import for linspace\n",
        "import numpy as np\n",
        "# import for plotting functions\n",
        "import matplotlib.pyplot as plt\n",
        "\n",
        "\n",
        "# create an input vector \n",
        "x = np.linspace(-5,5,100)\n",
        "\n",
        "# function #1 2x^2+3x+1\n",
        "f_1 = 2*x**2+3*x+1\n",
        "# function #2 x^2-16\n",
        "f_2 = x**2-16\n",
        "\n",
        "# plot function #1 and it's roots\n",
        "plt.plot(x,f_1,'b-',label='2x^2+3x+1')\n",
        "plt.plot(-1,0,'bo',label='roots')\n",
        "plt.plot(-1/2,0,'bo')\n",
        "\n",
        "# plot function #2 and it's roots\n",
        "plt.plot(x,f_2,'r-',label='x^2-16')\n",
        "plt.plot(-4,0,'ro',label='roots')\n",
        "plt.plot(4,0,'ro')\n",
        "\n",
        "# title, label plot, add legend and add grid\n",
        "plt.title('Exact Roots')\n",
        "plt.xlabel('x')\n",
        "plt.ylabel('f(x)')\n",
        "plt.legend()\n",
        "plt.grid()\n",
        "\n",
        "# show plot\n",
        "plt.show()\n"
      ],
      "metadata": {
        "colab": {
          "base_uri": "https://localhost:8080/",
          "height": 295
        },
        "id": "UnrqMeSkCuFO",
        "outputId": "27166296-b6c4-40b4-a156-0c71b9e4a59d"
      },
      "execution_count": 36,
      "outputs": [
        {
          "output_type": "display_data",
          "data": {
            "image/png": "[encoded data removed]",
            "text/plain": [
              "<Figure size 432x288 with 1 Axes>"
            ]
          },
          "metadata": {
            "needs_background": "light"
          }
        }
      ]
    },
    {
      "cell_type": "markdown",
      "source": [
        "### Example 3.\n",
        "\n",
        "The function $f(x)=cos(x)-x$ can only have numerical approximated roots. For functions such as this, Python can be used to numerically approximate the roots of the function.\n",
        "\n",
        "Below is a Python script solving for the roots."
      ],
      "metadata": {
        "id": "gehX1u7CFXui"
      }
    },
    {
      "cell_type": "code",
      "source": [
        "# import for fsolve\n",
        "from scipy import optimize\n",
        "# import for array functions\n",
        "import numpy as np\n",
        "# import for plotting functions\n",
        "import matplotlib.pyplot as plt\n",
        "\n",
        "\n",
        "# create an input vector \n",
        "x = np.linspace(-5,5,100)\n",
        "\n",
        "# function cos(x)-x for plotting\n",
        "f_3 = np.cos(x)-x\n",
        "\n",
        "# python function cos(x)-x for fsolve\n",
        "f = lambda x: np.cos(x) - x\n",
        "\n",
        "# solve for root\n",
        "root,info,ier,msg = optimize.fsolve(f,-2,full_output=True)\n",
        "\n",
        "# print root, output f(x) and fsolve message\n",
        "print('Approximated Root: ',root)\n",
        "print('f(x): ',f(root))\n",
        "print('Message: ',msg)\n",
        "\n",
        "# plot function and it's root\n",
        "plt.plot(x,f_3,'b-',label='f(x)')\n",
        "plt.plot(root,f(root),'bo',label='root')\n",
        "\n",
        "# title, label plot, add legend and add grid\n",
        "plt.title('f(x)=cos(x)-x')\n",
        "plt.xlabel('x')\n",
        "plt.ylabel('f(x)')\n",
        "plt.legend()\n",
        "plt.grid()\n",
        "\n",
        "# show plot\n",
        "plt.show()\n"
      ],
      "metadata": {
        "colab": {
          "base_uri": "https://localhost:8080/",
          "height": 347
        },
        "id": "n9zybP8QFwH6",
        "outputId": "4ea5f490-79f3-4fec-e4f2-ae59a5073b1c"
      },
      "execution_count": 37,
      "outputs": [
        {
          "output_type": "stream",
          "name": "stdout",
          "text": [
            "Approximated Root:  [0.73908513]\n",
            "f(x):  [0.]\n",
            "Message:  The solution converged.\n"
          ]
        },
        {
          "output_type": "display_data",
          "data": {
            "image/png": "[encoded data removed]",
            "text/plain": [
              "<Figure size 432x288 with 1 Axes>"
            ]
          },
          "metadata": {
            "needs_background": "light"
          }
        }
      ]
    },
    {
      "cell_type": "markdown",
      "source": [
        "### Example 4.\n",
        "\n",
        "The function $f(x)=\\frac{1}{x}$ does not actually cross the x-axis and therefore does not have any roots. In this case, Python will not produce a correct result since Python will not converge to a solution for a root.\n",
        "\n",
        "Below is a Python script solving for no roots."
      ],
      "metadata": {
        "id": "lNGBKL1BHtXt"
      }
    },
    {
      "cell_type": "code",
      "source": [
        "# import for fsolve\n",
        "from scipy import optimize\n",
        "# import for array functions\n",
        "import numpy as np\n",
        "# import for plotting functions\n",
        "import matplotlib.pyplot as plt\n",
        "\n",
        "\n",
        "# create an input vector \n",
        "x = np.linspace(-5,5,100)\n",
        "\n",
        "# function 1/x for plotting\n",
        "f_4 = 1/x\n",
        "\n",
        "# python function 1/x for fsolve\n",
        "f = lambda x: 1/x\n",
        "\n",
        "# solve for root\n",
        "root,info,ier,msg = optimize.fsolve(f,-2,full_output=True)\n",
        "\n",
        "# print root, output f(x) and fsolve message\n",
        "print('Approximated Root: ',root)\n",
        "print('f(x): ',f(root))\n",
        "print('Message: ',msg)\n",
        "\n",
        "# plot function\n",
        "plt.plot(x,f_4,'b-')\n",
        "\n",
        "# title, label plot, and add grid\n",
        "plt.title('f(x)=1/x')\n",
        "plt.xlabel('x')\n",
        "plt.ylabel('f(x)')\n",
        "plt.grid()\n",
        "\n",
        "# show plot\n",
        "plt.show()"
      ],
      "metadata": {
        "colab": {
          "base_uri": "https://localhost:8080/",
          "height": 347
        },
        "id": "NLDFVTefu7X8",
        "outputId": "a6cf5683-0f0b-4956-8bac-f6a6af201a95"
      },
      "execution_count": 38,
      "outputs": [
        {
          "output_type": "stream",
          "name": "stdout",
          "text": [
            "Approximated Root:  [-3.52047359e+83]\n",
            "f(x):  [-2.84052692e-84]\n",
            "Message:  The number of calls to function has reached maxfev = 400.\n"
          ]
        },
        {
          "output_type": "display_data",
          "data": {
            "image/png": "[encoded data removed]",
            "text/plain": [
              "<Figure size 432x288 with 1 Axes>"
            ]
          },
          "metadata": {
            "needs_background": "light"
          }
        }
      ]
    },
    {
      "cell_type": "markdown",
      "source": [
        "## 19.2 Tolerance\n",
        "\n",
        "Error and tolerance are used in order to determine if a numerical approximation converges on a solution for a root. Error is the amount a solution differs from the expected value. Tolerance is the level of acceptable error for a particular application. When a application has found a solution with an error less than the tolerance, it is said to have converged to a solution. \n",
        "\n"
      ],
      "metadata": {
        "id": "iy7xu9oBxv54"
      }
    },
    {
      "cell_type": "markdown",
      "source": [
        "## 19.3 Bisection Method\n",
        "\n",
        "The bisection method makes use of the Intermediate Value Theorem in order to converge on a root.\n",
        "\n",
        "**Intermediate Value Theorem**<br>\n",
        "If $f(x)$ is a continous function between $a$ and $b$, and $sign(f(a))\\neq{sign(f(b))}$, then there must be a $c$, such that $a<{c}<{b}$ and $f(c)=0$.\n",
        "\n",
        "For example, looking at the graph in example 3 for $f(x)=cos(x)-x$ a root can be found between $x=0$ and $x=2$. At $f(0)$ the function is positive and at $f(2)$ the function is negative, thus per the Intermediate Value Theorem there will exist a $c$ such that $0<{c}<{2}$ and $f(c)=0$. In this case $c=0.73908513$.\n",
        "\n",
        "The bisection method utilizes an recursive process to find roots. Starting with an $a$ and $b$ such that:\n",
        "- $a<{b}$\n",
        "- $f(a)>0$\n",
        "- $f(b)<{0}$\n",
        "\n",
        "Then there must be a root on the interval $(a,b)$. The method first evaluates the midpoint between $a$ and $b$, $m=\\frac{a+b}{2}$. If $f(m)=0$, or is close enough i.e. $|f(m)|<{tolerance}$, then $m$ is the root. If $m$ is not a root than $m$ becomes a bound on the open interval $(a,b)$ and the process is repeated until the convergence on a root. If $f(m)>0$ than $m$ replaces $a$ in $(m,b)$. If $f(m)<{0}$ than $m$ replaces $b$ in $(a,m)$.\n",
        "\n",
        "Below is a Python script demostrating the bisection method."
      ],
      "metadata": {
        "id": "gcK92b3P95Pm"
      }
    },
    {
      "cell_type": "code",
      "source": [
        "# import for array functions\n",
        "import numpy as np\n",
        "\n",
        "\n",
        "# function for bisection method\n",
        "def bisection_method(f,a,b,tol):\n",
        "\n",
        "  # check if Intermediate Value Theorem is valid\n",
        "  if np.sign(f(a)) == np.sign(f(b)):\n",
        "    return 'There is no root between a and b'\n",
        "  \n",
        "  # calculate midpoint\n",
        "  m = (a+b)/2\n",
        "\n",
        "  # check if midpoint is a root\n",
        "  if np.abs(f(m))<tol:\n",
        "    return m\n",
        "\n",
        "  # change interval from (a,b) to (m,b) and redo\n",
        "  elif np.sign(f(a))==np.sign(f(m)):\n",
        "    return bisection_method(f,m,b,tol)\n",
        "\n",
        "  # change interval from (a,b) to (b,m) and redo\n",
        "  elif np.sign(f(b))==np.sign(f(m)):\n",
        "    return bisection_method(f,a,m,tol)\n",
        "\n",
        "##### Main #####\n",
        "\n",
        "# python function cos(x)-x\n",
        "f = lambda x: np.cos(x)-x\n",
        "\n",
        "# solve for root\n",
        "root = bisection_method(f,0,2,0.001)\n",
        "\n",
        "# print root and output f(x)\n",
        "print('For f(x)=cos(x)-x')\n",
        "print('Approximated Root: ',root)\n",
        "print('f(x): ',f(root))\n",
        "\n",
        "# python function 1/x\n",
        "f = lambda x: 1/x\n",
        "\n",
        "# solve for root\n",
        "root = bisection_method(f,1,2,0.001)\n",
        "\n",
        "# print root\n",
        "print('\\nFor f(x)=1/x')\n",
        "print('Approximated Root: ',root)\n"
      ],
      "metadata": {
        "colab": {
          "base_uri": "https://localhost:8080/"
        },
        "id": "vbHLxwLs-KeF",
        "outputId": "a62627d3-8040-4a8d-e6ae-2cabfc6c2cc7"
      },
      "execution_count": 39,
      "outputs": [
        {
          "output_type": "stream",
          "name": "stdout",
          "text": [
            "For f(x)=cos(x)-x\n",
            "Approximated Root:  0.7392578125\n",
            "f(x):  -0.0002890091467900868\n",
            "\n",
            "For f(x)=1/x\n",
            "Approximated Root:  There is no root between a and b\n"
          ]
        }
      ]
    },
    {
      "cell_type": "markdown",
      "source": [
        "## 19.4 Newton-Raphson Method\n",
        "\n",
        "The Newton-Raphson method uses recursive linear approximations in order to converge to a root of the function, $f(x)$. The method starts with an initial guess $x_0$ that is not a root. A linear approximation is made at $x_0$ using the intersection of the x-axis with the tagent line formed by the slope $f'(x_0)$. As a result, the function, $f(x)$, must have a derivative.  The intersection at $x_1$ where $f(x_1)=0$, is the next \"guess\". This is referred to as the Newton Step. The process continues until a root is reached.\n",
        "\n",
        "Using the equation of a line,\n",
        "\n",
        "$0=f(x_0)+f'(x_0)(x_1-x_0)$\n",
        "\n",
        "The next guess is then,\n",
        "\n",
        "$x_1=x_0-\\frac{f(x_0)}{f'(x_0}$\n",
        "\n",
        "This method can converge to a root much faster than the bisection method, however, it has the following downsides:\n",
        "\n",
        "- The initial guess, $x_0$, may not be close to the root\n",
        "- The Newton Step may be very large and diverge away from a root\n",
        "- The method may converge to a different unexpected root based on the function and it's derivative\n",
        "- Derivative must be known\n",
        "\n",
        "Below is a Python script demostrating the Newton-Raphson method.\n"
      ],
      "metadata": {
        "id": "VWskLia4-AS3"
      }
    },
    {
      "cell_type": "code",
      "source": [
        "# import for cos and sin\n",
        "import numpy as np\n",
        "\n",
        "# function for Newton-Raphson Method\n",
        "def newton_raphson_method(f,df,x0,tol):\n",
        "  \n",
        "  # check if guess is root\n",
        "  if abs(f(x0))<tol:\n",
        "    return x0\n",
        "  \n",
        "  # determine next guess and redo\n",
        "  else:\n",
        "    x1 = x0 - f(x0)/df(x0)\n",
        "    return newton_raphson_method(f,df,x1,tol)\n",
        "\n",
        "##### Main #####\n",
        "\n",
        "# python function for cos(x)-x\n",
        "f = lambda x: np.cos(x)-x\n",
        "\n",
        "# python function for derivative of cos(x)-x\n",
        "df = lambda x: -np.sin(x)-1\n",
        "\n",
        "# solve for root\n",
        "root = newton_raphson_method(f,df,0,0.001)\n",
        "\n",
        "# print root and output f(x)\n",
        "print('For f(x)=cos(x)-x')\n",
        "print('Approximated Root: ',root)\n",
        "print('f(x): ',f(root))\n"
      ],
      "metadata": {
        "colab": {
          "base_uri": "https://localhost:8080/"
        },
        "id": "DnZrWmuMR551",
        "outputId": "06819e88-c88c-4ad5-efe7-a5836d0bc497"
      },
      "execution_count": 40,
      "outputs": [
        {
          "output_type": "stream",
          "name": "stdout",
          "text": [
            "For f(x)=cos(x)-x\n",
            "Approximated Root:  0.7391128909113617\n",
            "f(x):  -4.6455898990771516e-05\n"
          ]
        }
      ]
    },
    {
      "cell_type": "markdown",
      "source": [
        "## 19.5 Finding Roots in Python\n",
        "\n",
        "Python has a rooting finding function called fsolve from the scipy.optimize library. When using this function, $f(x)$ must be a Python function created with either def or use of lambda. $f(x)$ can then be passed as an argument to fsolve. fsolve is optimized for speed and accuracy.\n",
        "\n",
        "Below is a Python script demostrating the use of fsolve for the function from examples 1 and 2 above."
      ],
      "metadata": {
        "id": "3LnRww1A-Fix"
      }
    },
    {
      "cell_type": "code",
      "source": [
        "# import for fsolve\n",
        "from scipy.optimize import fsolve\n",
        "\n",
        "# python function 2x^2+3x+1 using def\n",
        "def f_1(x):\n",
        "  return 2*x**2+3*x+1\n",
        "\n",
        "# python function x^2-16 using lambda\n",
        "f_2 = lambda x: x**2-16\n",
        "\n",
        "# solve for roots of 2x^2+3x+1\n",
        "roots_1 = fsolve(f_1,[-2,0])\n",
        "\n",
        "# solve for roots of x^2-16\n",
        "roots_2 = fsolve(f_2,[-5,5])\n",
        "\n",
        "# print roots\n",
        "print('For 2x^2+3x+1')\n",
        "print('Approximated Roots: ', roots_1)\n",
        "\n",
        "# print roots \n",
        "print('\\nFor x^2-16')\n",
        "print('Approximated Roots: ', roots_2)\n",
        "\n"
      ],
      "metadata": {
        "colab": {
          "base_uri": "https://localhost:8080/"
        },
        "id": "OTUAYx55WMiy",
        "outputId": "56b24cb5-be4b-46c0-d4ab-d3a63f348af3"
      },
      "execution_count": 41,
      "outputs": [
        {
          "output_type": "stream",
          "name": "stdout",
          "text": [
            "For 2x^2+3x+1\n",
            "Approximated Roots:  [-1.  -0.5]\n",
            "\n",
            "For x^2-16\n",
            "Approximated Roots:  [-4.  4.]\n"
          ]
        }
      ]
    }
  ]
}